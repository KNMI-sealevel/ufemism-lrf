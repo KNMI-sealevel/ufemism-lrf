{
 "cells": [
  {
   "cell_type": "code",
   "execution_count": 1,
   "metadata": {},
   "outputs": [],
   "source": [
    "import numpy as np\n",
    "import xarray as xr\n",
    "import matplotlib.pyplot as plt"
   ]
  },
  {
   "cell_type": "code",
   "execution_count": 2,
   "metadata": {},
   "outputs": [],
   "source": [
    "idxs = [-1,1,2,3,4,5]\n",
    "names = ['ctrl','eais','ross','amun','wedd','pens']"
   ]
  },
  {
   "cell_type": "code",
   "execution_count": null,
   "metadata": {},
   "outputs": [],
   "source": [
    "ds = xr.open_dataset('../output/larmip_spinup2g/main_output_ANT_grid.nc')\n",
    "ds"
   ]
  },
  {
   "cell_type": "code",
   "execution_count": 13,
   "metadata": {},
   "outputs": [],
   "source": [
    "ds = xr.open_dataset('../output/larmip_spinup2g/main_output_ANT_grid.nc')\n",
    "ds2 = xr.open_dataset('../../data/larmip/LARMIP_regions_initMIPgrid_04.nc')\n",
    "\n",
    "for idx,name in zip(idxs,names):\n",
    "    ds3 = ds.copy()\n",
    "    ds3 = ds3.drop_vars(['lon','lat','Hi','Hb','Hs','SL','u_surf','v_surf','uabs_surf','dHi','LMB','pore_water_fraction','Hib'])\n",
    "    ds3 = ds3.isel(time=-1)\n",
    "    ds3 = ds3.drop_dims(['zeta','month'])\n",
    "    ds3.BMB[:] = xr.where(ds2.regions==idx,ds3.BMB-8,ds3.BMB)\n",
    "    ds3.to_netcdf(f'../input/BMB_forcing_{name}_8.nc')\n",
    "    ds3.close()\n",
    "    \n",
    "#Additional BMB forcing in all regions\n",
    "ds3 = ds.copy()\n",
    "ds3 = ds3.drop_vars(['lon','lat','Hi','Hb','Hs','SL','u_surf','v_surf','uabs_surf','dHi','LMB','pore_water_fraction','Hib'])\n",
    "ds3 = ds3.isel(time=-1)\n",
    "ds3 = ds3.drop_dims(['zeta','month'])\n",
    "ds3.BMB[:] = xr.where(ds2.regions>0,ds3.BMB-8,ds3.BMB)\n",
    "ds3.to_netcdf(f'../input/BMB_forcing_all_8.nc')\n",
    "ds.close()\n",
    "ds2.close()\n",
    "ds3.close()"
   ]
  },
  {
   "cell_type": "code",
   "execution_count": null,
   "metadata": {},
   "outputs": [],
   "source": [
    "ds4 = xr.open_dataset('../input/BMB_forcing_ctrl_8.nc')\n",
    "ds4.BMB.plot.pcolormesh(vmin=-10,vmax=10,cmap='RdBu')"
   ]
  },
  {
   "cell_type": "code",
   "execution_count": null,
   "metadata": {},
   "outputs": [],
   "source": []
  }
 ],
 "metadata": {
  "kernelspec": {
   "display_name": "Python 3",
   "language": "python",
   "name": "python3"
  },
  "language_info": {
   "codemirror_mode": {
    "name": "ipython",
    "version": 3
   },
   "file_extension": ".py",
   "mimetype": "text/x-python",
   "name": "python",
   "nbconvert_exporter": "python",
   "pygments_lexer": "ipython3",
   "version": "3.8.13"
  }
 },
 "nbformat": 4,
 "nbformat_minor": 2
}
