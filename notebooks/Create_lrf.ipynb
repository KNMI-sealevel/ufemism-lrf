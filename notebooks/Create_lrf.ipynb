{
 "cells": [
  {
   "cell_type": "code",
   "execution_count": 20,
   "metadata": {},
   "outputs": [],
   "source": [
    "import xarray as xr\n",
    "import numpy as np\n",
    "import matplotlib.pyplot as plt"
   ]
  },
  {
   "cell_type": "code",
   "execution_count": null,
   "metadata": {},
   "outputs": [],
   "source": [
    "fig,ax = plt.subplots(1,2)\n",
    "\n",
    "ds0 = xr.open_dataset(f'../output/larmip_ctrl2/scalar_output_ANT_00001.nc')\n",
    "time = np.arange(0,199)\n",
    "\n",
    "runs = ['amun','wedd','ross','eais','pens']#,'all']\n",
    "for r,run in enumerate(runs):\n",
    "    #Read time series\n",
    "    ds = xr.open_dataset(f'../output/larmip_{run}/scalar_output_ANT_00001.nc')\n",
    "    SLR = ds0.ice_volume_af-ds.ice_volume_af #m\n",
    "    IML = (ds0.ice_volume-ds.ice_volume)*1028*3.611e14*1e-12 #Gt\n",
    "    ds.close()\n",
    "\n",
    "    #Convert to response functions\n",
    "    RS = (SLR[1:-1].values-SLR[:-2].values)/8 #m/yr /m/yr\n",
    "    RI = (IML[1:-1].values-IML[:-2].values)/8 #Gt/yr / m/yr\n",
    "\n",
    "    #Plot\n",
    "    ax[0].plot(time,1000*RS,label=run)\n",
    "    ax[1].plot(time,RI)\n",
    "\n",
    "    #Save output\n",
    "    dss = xr.Dataset()\n",
    "    dss = dss.assign_coords({'time':time})\n",
    "    dss['RF']       = (['time'],RS)\n",
    "    dss['RF_total'] = (['time'],RI)\n",
    "    dss['RF'].attrs['units'] = 'm/m'\n",
    "    dss['RF_total'].attrs['units'] = 'Gt/m'\n",
    "    dss.to_netcdf(f'../output/lrfs/LRF_{run}')\n",
    "    dss.close()\n",
    "\n",
    "ax[0].legend()\n",
    "ds0.close()"
   ]
  },
  {
   "cell_type": "code",
   "execution_count": null,
   "metadata": {},
   "outputs": [],
   "source": []
  }
 ],
 "metadata": {
  "kernelspec": {
   "display_name": "laddie",
   "language": "python",
   "name": "python3"
  },
  "language_info": {
   "codemirror_mode": {
    "name": "ipython",
    "version": 3
   },
   "file_extension": ".py",
   "mimetype": "text/x-python",
   "name": "python",
   "nbconvert_exporter": "python",
   "pygments_lexer": "ipython3",
   "version": "3.8.13"
  }
 },
 "nbformat": 4,
 "nbformat_minor": 2
}
