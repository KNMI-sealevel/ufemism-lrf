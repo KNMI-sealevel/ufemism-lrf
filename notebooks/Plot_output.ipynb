{
 "cells": [
  {
   "cell_type": "code",
   "execution_count": 1,
   "metadata": {},
   "outputs": [],
   "source": [
    "import xarray as xr\n",
    "import matplotlib.pyplot as plt"
   ]
  },
  {
   "cell_type": "code",
   "execution_count": 2,
   "metadata": {},
   "outputs": [],
   "source": [
    "cols = ['tab:blue','tab:orange','tab:green','tab:red','tab:purple','.5','tab:brown']"
   ]
  },
  {
   "cell_type": "code",
   "execution_count": null,
   "metadata": {},
   "outputs": [],
   "source": [
    "fig,ax = plt.subplots(3,1,sharex=True)\n",
    "\n",
    "runs = ['spinup1','spinup2g','spinup2h','ctrl','ctrl2','spinup3']#'amun','wedd','ross','eais','pens']\n",
    "for r,run in enumerate(runs):\n",
    "    if run=='spinup':\n",
    "        ds = xr.open_dataset(f'../input/larmip_{run}/scalar_output_ANT_00001.nc')\n",
    "    else:\n",
    "        ds = xr.open_dataset(f'../output/larmip_{run}/scalar_output_ANT_00001.nc')\n",
    "    ds = ds.sel(time=slice(1000,1e9))\n",
    "    ax[0].plot(ds.time,ds.ice_volume,c=cols[r])\n",
    "    ax[0].plot(ds.time,ds.ice_volume_PD,c=cols[r],ls=':')\n",
    "    ax[1].plot(ds.time,ds.ice_volume_af,c=cols[r])\n",
    "    ax[1].plot(ds.time,ds.ice_volume_af_PD,c=cols[r],ls=':')\n",
    "    ax[2].plot(ds.time,ds.ice_volume-ds.ice_volume_af,c=cols[r])\n",
    "    ax[2].plot(ds.time,ds.ice_volume_PD-ds.ice_volume_af_PD,c=cols[r],ls=':')\n",
    "    ds.close()\n",
    "ax[0].set_ylabel('Total volume\\n(m sle)')\n",
    "ax[1].set_ylabel('Volume above\\nflotation (m sle)')\n",
    "ax[2].set_ylabel('Volume below\\nflotation (m sle)')"
   ]
  },
  {
   "cell_type": "code",
   "execution_count": null,
   "metadata": {},
   "outputs": [],
   "source": [
    "fig,ax = plt.subplots(4,1,sharex=True,figsize=(8,8))\n",
    "\n",
    "for Ax in ax:\n",
    "    Ax.axhline(0,0,1,c='k',ls=':')\n",
    "\n",
    "runs = ['spinup1','spinup2f','spinup2g']\n",
    "for r,run in enumerate(runs):\n",
    "    if run=='spinup':\n",
    "        ds = xr.open_dataset(f'../input/larmip_{run}/scalar_output_ANT_00001.nc')\n",
    "    else:\n",
    "        ds = xr.open_dataset(f'../output/larmip_{run}/scalar_output_ANT_00001.nc')\n",
    "        ds = ds.sel(time=slice(1000,1e9))\n",
    "    ax[0].plot(ds.time,ds.BMB_fl,c=cols[r],lw=1.)\n",
    "    ax[0].plot(ds.time,ds.BMB_gr,c=cols[r],lw=.5)\n",
    "    ax[0].plot(ds.time,ds.BMB_fl+ds.BMB_gr,c=cols[r])\n",
    "    ax[1].plot(ds.time,ds.SMB_gr+ds.BMB_gr+ds.LMB_gr+ds.AMB_gr+ds.gl_flux+ds.cf_gr_flux,c=cols[r])\n",
    "    #ax[1].plot(ds.time,ds.BMB_gr+ds.gl_flux,c=cols[r],lw=.5)\n",
    "    ax[2].plot(ds.time,ds.SMB_fl+ds.BMB_fl+ds.AMB_fl+ds.LMB_fl-ds.gl_flux+ds.cf_fl_flux-ds.cf_gr_flux,c=cols[r])\n",
    "    ax[3].plot(ds.time,ds.SMB_gr+ds.SMB_fl+ds.BMB_gr+ds.BMB_fl+ds.AMB_gr+ds.AMB_fl+ds.LMB_gr+ds.LMB_fl+ds.margin_land_flux+ds.margin_ocean_flux,c=cols[r])\n",
    "    ds.close()\n",
    "ax[0].set_ylabel('BMB (fl, gr)')\n",
    "ax[1].set_ylabel('budget (gr)')\n",
    "ax[2].set_ylabel('budget (fl)')"
   ]
  },
  {
   "cell_type": "code",
   "execution_count": null,
   "metadata": {},
   "outputs": [],
   "source": [
    "fig,ax = plt.subplots(1,2)\n",
    "\n",
    "ds0 = xr.open_dataset(f'../output/larmip_ctrl2/scalar_output_ANT_00001.nc')\n",
    "\n",
    "runs = ['amun','wedd','ross','eais','pens']#,'all']\n",
    "for r,run in enumerate(runs):\n",
    "    ds = xr.open_dataset(f'../output/larmip_{run}/scalar_output_ANT_00001.nc')\n",
    "    ax[0].plot(ds.time-60000.,ds0.ice_volume-ds.ice_volume)\n",
    "    ax[1].plot(ds.time-60000.,ds0.ice_volume_af-ds.ice_volume_af,label=run)\n",
    "    ds.close()\n",
    "ax[1].legend()\n",
    "ds0.close()"
   ]
  },
  {
   "cell_type": "code",
   "execution_count": null,
   "metadata": {},
   "outputs": [],
   "source": []
  }
 ],
 "metadata": {
  "kernelspec": {
   "display_name": "laddie",
   "language": "python",
   "name": "python3"
  },
  "language_info": {
   "codemirror_mode": {
    "name": "ipython",
    "version": 3
   },
   "file_extension": ".py",
   "mimetype": "text/x-python",
   "name": "python",
   "nbconvert_exporter": "python",
   "pygments_lexer": "ipython3",
   "version": "3.8.13"
  }
 },
 "nbformat": 4,
 "nbformat_minor": 2
}
